{
 "cells": [
  {
   "cell_type": "code",
   "execution_count": 1,
   "metadata": {},
   "outputs": [],
   "source": [
    "import numpy as np"
   ]
  },
  {
   "cell_type": "markdown",
   "metadata": {},
   "source": [
    "## Data Setup"
   ]
  },
  {
   "cell_type": "code",
   "execution_count": 2,
   "metadata": {},
   "outputs": [],
   "source": [
    "# m : number of training examples\n",
    "m = 5\n",
    "input_features = 2\n",
    "output_layer = 1\n",
    "\n",
    "# X = (input_features, training_examples) = training_data_shape\n",
    "X = np.random.rand(input_features , m)\n",
    "\n",
    "# Y = output labels (or classes)\n",
    "Y = np.random.rand(1,1)"
   ]
  },
  {
   "cell_type": "code",
   "execution_count": 3,
   "metadata": {},
   "outputs": [],
   "source": [
    "# Activation function\n",
    "def sigmoid(z):\n",
    "    return 1 / (1 + np.exp(-z))"
   ]
  },
  {
   "cell_type": "markdown",
   "metadata": {},
   "source": [
    "## First layer calcualtions (Hidden layer)\n",
    "\n",
    "**Here is model from deeplearnig.ai course**:\n",
    "<img src=\"classification_kiank.png\" style=\"width:600px;height:300px;\">"
   ]
  },
  {
   "cell_type": "markdown",
   "metadata": {},
   "source": [
    "**Explanation**:\n",
    "   * w1, w2, w3, w4 are weights for 4 neurons in hidden layer.\n",
    "   * b1, b2, b3, b4 are biases for hidden layers."
   ]
  },
  {
   "cell_type": "code",
   "execution_count": 4,
   "metadata": {},
   "outputs": [
    {
     "name": "stdout",
     "output_type": "stream",
     "text": [
      "Hidden layer outputs for all training examples : (4, 5)\n",
      "Final layer outputs for all training examples (i.e. predictions) : (5,)\n",
      "[0.95901433 0.94561988 0.95705042 0.94522002 0.94280192]\n"
     ]
    }
   ],
   "source": [
    "################ First Layer Calculations ################\n",
    "np.random.seed(5)\n",
    "w1 = np.random.rand(1,2)\n",
    "w2 = np.random.rand(1,2)\n",
    "w3 = np.random.rand(1,2)\n",
    "w4 = np.random.rand(1,2)\n",
    "\n",
    "b1 = np.random.rand(1,1)\n",
    "b2 = np.random.rand(1,1)\n",
    "b3 = np.random.rand(1,1)\n",
    "b4 = np.random.rand(1,1)\n",
    "\n",
    "z1 = np.dot(w1, X) + b1\n",
    "z2 = np.dot(w2, X) + b2\n",
    "z3 = np.dot(w3, X) + b3\n",
    "z4 = np.dot(w4, X) + b4\n",
    "\n",
    "# Final activations (calculated individually)\n",
    "a1 = sigmoid(z1)\n",
    "a2 = sigmoid(z2)\n",
    "a3 = sigmoid(z3)\n",
    "a4 = sigmoid(z4)\n",
    "\n",
    "# Here stacked all activations in hidden layer just for comparing with full vectorized version later\n",
    "A1 = np.stack((a1,a2,a3,a4), axis=0)\n",
    "A1 = np.squeeze(A1).reshape((A1.shape[0], m))\n",
    "print(\"Hidden layer outputs for all training examples :\", A1.shape)\n",
    "\n",
    "################ Second Layer Calculations ################\n",
    "np.random.seed(4)\n",
    "W2 = np.random.rand(4)\n",
    "B2 = np.random.rand(1)\n",
    "Z2 = np.dot(W2, A1) + B2\n",
    "A2 = sigmoid(Z2)\n",
    "\n",
    "print(\"Final layer outputs for all training examples (i.e. predictions) :\" , A2.shape)\n",
    "print(A2)"
   ]
  },
  {
   "cell_type": "markdown",
   "metadata": {},
   "source": [
    "## Using stacking as explained in lecture PPT\n",
    "    * Here used only single matrix W1 and B1. (which is stacked version of w1, w2, w3, w4 for previous explanation)"
   ]
  },
  {
   "cell_type": "code",
   "execution_count": 5,
   "metadata": {},
   "outputs": [
    {
     "name": "stdout",
     "output_type": "stream",
     "text": [
      "Hidden layer outputs for all training examples : (4, 5)\n",
      "Final layer outputs for all training examples (i.e. predictions) : (5,)\n",
      "[0.95901433 0.94561988 0.95705042 0.94522002 0.94280192]\n"
     ]
    }
   ],
   "source": [
    "################ First Layer Calculations ################\n",
    "np.random.seed(5)\n",
    "W1 = np.random.rand(4, 2)\n",
    "B1 = np.random.rand(4, 1)\n",
    "Z1 = np.dot(W1, X) + B1\n",
    "A1 = sigmoid(Z1)\n",
    "\n",
    "print(\"Hidden layer outputs for all training examples :\", A1.shape)\n",
    "\n",
    "################ Second Layer Calculations ################\n",
    "np.random.seed(4)\n",
    "W2 = np.random.rand(4)\n",
    "B2 = np.random.rand(1)\n",
    "Z2 = np.dot(W2, A1) + B2\n",
    "A2 = sigmoid(Z2)\n",
    "print(\"Final layer outputs for all training examples (i.e. predictions) :\" , A2.shape)\n",
    "print(A2)"
   ]
  },
  {
   "cell_type": "markdown",
   "metadata": {},
   "source": [
    "### And now with activation vector you can calculate class (Binary classification)"
   ]
  },
  {
   "cell_type": "code",
   "execution_count": 6,
   "metadata": {},
   "outputs": [
    {
     "name": "stdout",
     "output_type": "stream",
     "text": [
      "[1 1 1 1 1]\n"
     ]
    }
   ],
   "source": [
    "# Below code is read as : (if value in A2 is greater than 0.5, make it 1, else make it 0)\n",
    "# No loop version\n",
    "predictions = np.where(A2 > 0.5, 1, 0)\n",
    "print(predictions)"
   ]
  },
  {
   "cell_type": "markdown",
   "metadata": {},
   "source": [
    "# Deep Neural Network"
   ]
  },
  {
   "cell_type": "code",
   "execution_count": 10,
   "metadata": {},
   "outputs": [],
   "source": [
    "m = 1\n",
    "X = np.random.rand(3, 1)"
   ]
  },
  {
   "cell_type": "markdown",
   "metadata": {},
   "source": [
    "## Non vectorized version"
   ]
  },
  {
   "cell_type": "code",
   "execution_count": 26,
   "metadata": {},
   "outputs": [
    {
     "name": "stdout",
     "output_type": "stream",
     "text": [
      "(5, 1)\n",
      "(5, 1)\n",
      "(3, 1)\n",
      "(1,)\n",
      "Final layer outputs for all training examples (i.e. predictions) : (5, 1)\n",
      "[0.9167034]\n"
     ]
    }
   ],
   "source": [
    "np.random.seed(4)\n",
    "################ First Layer Calculations ################\n",
    "\n",
    "w11 = np.random.rand(1,3)\n",
    "w12 = np.random.rand(1,3)\n",
    "w13 = np.random.rand(1,3)\n",
    "w14 = np.random.rand(1,3)\n",
    "w15 = np.random.rand(1,3)\n",
    "\n",
    "b11 = np.random.rand(1,1)\n",
    "b12 = np.random.rand(1,1)\n",
    "b13 = np.random.rand(1,1)\n",
    "b14 = np.random.rand(1,1)\n",
    "b15 = np.random.rand(1,1)\n",
    "\n",
    "z11 = np.dot(w11, X) + b11\n",
    "z12 = np.dot(w12, X) + b12\n",
    "z13 = np.dot(w13, X) + b13\n",
    "z14 = np.dot(w14, X) + b14\n",
    "z15 = np.dot(w15, X) + b15\n",
    "\n",
    "a11 = sigmoid(z11)\n",
    "a12 = sigmoid(z12)\n",
    "a13 = sigmoid(z13)\n",
    "a14 = sigmoid(z14)\n",
    "a15 = sigmoid(z15)\n",
    "\n",
    "A1 = np.stack((a11,a12,a13,a14, a15), axis=0)\n",
    "A1 = np.squeeze(A1).reshape((A1.shape[0], m))\n",
    "print(A1.shape)\n",
    "################ Second Layer Calculations ################\n",
    "\n",
    "w21 = np.random.rand(1,5)\n",
    "w22 = np.random.rand(1,5)\n",
    "w23 = np.random.rand(1,5)\n",
    "w24 = np.random.rand(1,5)\n",
    "w25 = np.random.rand(1,5)\n",
    "\n",
    "b21 = np.random.rand(1,1)\n",
    "b22 = np.random.rand(1,1)\n",
    "b23 = np.random.rand(1,1)\n",
    "b24 = np.random.rand(1,1)\n",
    "b25 = np.random.rand(1,1)\n",
    "\n",
    "z21 = np.dot(w21, A1) + b21\n",
    "z22 = np.dot(w22, A1) + b22\n",
    "z23 = np.dot(w23, A1) + b23\n",
    "z24 = np.dot(w24, A1) + b24\n",
    "z25 = np.dot(w24, A1) + b25\n",
    "\n",
    "a21 = sigmoid(z21)\n",
    "a22 = sigmoid(z22)\n",
    "a23 = sigmoid(z23)\n",
    "a24 = sigmoid(z24)\n",
    "a25 = sigmoid(z25)\n",
    "\n",
    "A2 = np.stack((a21,a22,a23,a24, a25), axis=0)\n",
    "A2 = np.squeeze(A2).reshape((A2.shape[0], m))\n",
    "print(A2.shape)\n",
    "\n",
    "################ Third Layer Calculations ################\n",
    "w31 = np.random.rand(1,5)\n",
    "w32 = np.random.rand(1,5)\n",
    "w33 = np.random.rand(1,5)\n",
    "\n",
    "b31 = np.random.rand(1,1)\n",
    "b32 = np.random.rand(1,1)\n",
    "b33 = np.random.rand(1,1)\n",
    "\n",
    "z31 = np.dot(w31, A2) + b21\n",
    "z32 = np.dot(w32, A2) + b22\n",
    "z33 = np.dot(w33, A2) + b23\n",
    "\n",
    "a31 = sigmoid(z31)\n",
    "a32 = sigmoid(z32)\n",
    "a33 = sigmoid(z33)\n",
    "\n",
    "A3 = np.stack((a31,a32,a33), axis=0)\n",
    "A3 = np.squeeze(A3).reshape((A3.shape[0], m))\n",
    "print(A3.shape)\n",
    "################ Fourth Layer Calculations ################\n",
    "W4 = np.random.rand(3)\n",
    "B4 = np.random.rand(1)\n",
    "Z4 = np.dot(W4, A3) + B4\n",
    "A4 = sigmoid(Z4)\n",
    "print(A4.shape)\n",
    "\n",
    "print(\"Final layer outputs for all training examples (i.e. predictions) :\" , A2.shape)\n",
    "print(A4)"
   ]
  },
  {
   "cell_type": "markdown",
   "metadata": {},
   "source": [
    "## Vectorized version"
   ]
  },
  {
   "cell_type": "code",
   "execution_count": 27,
   "metadata": {},
   "outputs": [
    {
     "name": "stdout",
     "output_type": "stream",
     "text": [
      "(5, 1)\n",
      "(5, 1)\n",
      "(3, 1)\n",
      "(1,)\n",
      "Final layer outputs for all training examples (i.e. predictions) : (5, 1)\n",
      "[0.91683824]\n"
     ]
    }
   ],
   "source": [
    "np.random.seed(4)\n",
    "################ First Layer Calculations ################\n",
    "W1 = np.random.rand(5,3)\n",
    "b1 = np.random.rand(5,1)\n",
    "Z1 = np.dot(W1, X) + b1\n",
    "A1 = sigmoid(Z1)\n",
    "print(A1.shape)\n",
    "\n",
    "################ Second Layer Calculations ################\n",
    "W2 = np.random.rand(5,5)\n",
    "b2 = np.random.rand(5,1)\n",
    "Z2 = np.dot(W2, A1) + b2\n",
    "A2 = sigmoid(Z2)\n",
    "print(A2.shape)\n",
    "\n",
    "################ Third Layer Calculations ################\n",
    "W3 = np.random.rand(3,5)\n",
    "b3 = np.random.rand(3,1)\n",
    "Z3 = np.dot(W3, A2) + b3\n",
    "A3 = sigmoid(Z3)\n",
    "print(A3.shape)\n",
    "################ Fourth Layer Calculations ################\n",
    "W4 = np.random.rand(3)\n",
    "b4 = np.random.rand(1)\n",
    "Z4 = np.dot(W4, A3) + b4\n",
    "A4 = sigmoid(Z4)\n",
    "print(A4.shape)\n",
    "\n",
    "print(\"Final layer outputs for all training examples (i.e. predictions) :\" , A2.shape)\n",
    "print(A4)"
   ]
  },
  {
   "cell_type": "code",
   "execution_count": null,
   "metadata": {},
   "outputs": [],
   "source": []
  }
 ],
 "metadata": {
  "kernelspec": {
   "display_name": "Python 3",
   "language": "python",
   "name": "python3"
  },
  "language_info": {
   "codemirror_mode": {
    "name": "ipython",
    "version": 3
   },
   "file_extension": ".py",
   "mimetype": "text/x-python",
   "name": "python",
   "nbconvert_exporter": "python",
   "pygments_lexer": "ipython3",
   "version": "3.7.3"
  }
 },
 "nbformat": 4,
 "nbformat_minor": 2
}
